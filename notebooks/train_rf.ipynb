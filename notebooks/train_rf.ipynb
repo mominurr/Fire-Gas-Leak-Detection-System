{
  "cells": [
    {
      "cell_type": "markdown",
      "metadata": {},
      "source": [
        "# Importing Necessary Library"
      ]
    },
    {
      "cell_type": "code",
      "execution_count": null,
      "metadata": {},
      "outputs": [],
      "source": [
        "import pandas as pd\n",
        "import numpy as np\n",
        "from sklearn.model_selection import train_test_split\n",
        "from sklearn.preprocessing import LabelEncoder, StandardScaler\n",
        "from sklearn.ensemble import RandomForestClassifier\n",
        "from sklearn.metrics import classification_report\n",
        "import joblib,os"
      ]
    },
    {
      "cell_type": "code",
      "execution_count": null,
      "metadata": {
        "id": "4eobiupXv15T"
      },
      "outputs": [],
      "source": [
        "cwd = os.getcwd()\n",
        "os.makedirs(\"data\",exist_ok=True)\n",
        "data_path = os.path.join(cwd,\"data\",\"iot_synthetic_sensor_data.csv\")\n",
        "# Load dataset\n",
        "df = pd.read_csv(data_path)\n",
        "\n",
        "# Encode target labels with custom order\n",
        "custom_order = [\"Safe\", \"Warning\", \"Gas Leak\", \"Fire Detected\", \"Evacuate Immediately\"]\n",
        "le = LabelEncoder()\n",
        "le.fit(custom_order)\n",
        "df[\"label_encoded\"] = le.transform(df[\"label\"])  # Using 'label' as confirmed\n",
        "\n",
        "# Separate features and target\n",
        "features = ['temperature', 'humidity', 'mq2_smoke', 'mq135_gas', 'flame_detected', 'cv_flame_score', 'cv_smoke_score', 'person_detected']\n",
        "X = df[features]\n",
        "y = df[\"label_encoded\"]\n",
        "\n",
        "# Train-test split\n",
        "X_train, X_test, y_train, y_test = train_test_split(\n",
        "    X, y, test_size=0.2, random_state=42, stratify=y\n",
        ")\n",
        "\n",
        "# Scale numeric features\n",
        "numeric_features = ['temperature', 'humidity', 'mq2_smoke', 'mq135_gas', 'flame_detected', 'cv_flame_score', 'cv_smoke_score', 'person_detected']\n",
        "scaler = StandardScaler()\n",
        "X_train_scaled = scaler.fit_transform(X_train[numeric_features])\n",
        "X_test_scaled = scaler.transform(X_test[numeric_features])\n",
        "\n",
        "# Convert scaled arrays back to DataFrame to maintain compatibility\n",
        "X_train = pd.DataFrame(X_train_scaled, columns=numeric_features, index=X_train.index)\n",
        "X_test = pd.DataFrame(X_test_scaled, columns=numeric_features, index=X_test.index)\n",
        "\n",
        "# Initialize Random Forest\n",
        "rf_clf = RandomForestClassifier(\n",
        "    n_estimators=100,\n",
        "    max_depth=None,\n",
        "    random_state=42,\n",
        "    n_jobs=-1,\n",
        "    class_weight=\"balanced\"\n",
        ")\n",
        "\n",
        "# Train the model\n",
        "rf_clf.fit(X_train, y_train)\n",
        "\n",
        "# Predict and evaluate\n",
        "y_pred = rf_clf.predict(X_test)\n",
        "print(\"\\n✅ Classification Report:\")\n",
        "print(classification_report(y_pred, y_test, target_names=le.classes_))\n",
        "\n",
        "# Save the model and preprocessing objects\n",
        "joblib.dump(rf_clf, r'threat_model.pkl')\n",
        "joblib.dump(le, r'label_encoder.pkl')\n",
        "joblib.dump(scaler, r'scaler.pkl')\n",
        "print(\"Random Forest model, label encoder, and scaler saved to backend/.\")"
      ]
    }
  ],
  "metadata": {
    "colab": {
      "provenance": []
    },
    "kernelspec": {
      "display_name": "Python 3",
      "name": "python3"
    },
    "language_info": {
      "name": "python"
    }
  },
  "nbformat": 4,
  "nbformat_minor": 0
}
